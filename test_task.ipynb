{
 "cells": [
  {
   "cell_type": "markdown",
   "metadata": {},
   "source": [
    "Задача:\n",
    "1. Загрузить файл с логами в Spark RDD\n",
    "2. Вывести количество строк в файле\n",
    "3. Посчитать количество записей с уровнем WARNING\n",
    "4. Посчитать, сколько всего репозиториев было обработано. Следует учитывать только вызовы api_client\n",
    "5. Найти клиента, выполнившего больше всего HTTP вызовов\n",
    "6. Найти клиента, с наибольшим количеством FAILED HTTP вызовов\n",
    "7. Найти наиболее активный по количеству вызовов час\n",
    "8. Найти наиболее активный репозиторий\n",
    "9. Найти лидирующий по ошибкам Access Key (выполнить фильтрацию по \"Access:\")"
   ]
  },
  {
   "cell_type": "code",
   "execution_count": 6,
   "metadata": {},
   "outputs": [
    {
     "name": "stdout",
     "output_type": "stream",
     "text": [
      "9669788\n",
      "132158\n"
     ]
    }
   ],
   "source": [
    "from pyspark import SparkContext\n",
    "sc = SparkContext(appName=\"test_task\")\n",
    "\n",
    "# 1. Загрузить файл с логами в Spark RDD\n",
    "txt = sc.textFile('/home/phoenix/Documents/artificial_intelligence/PySpark/ghtorrent-logs.txt')\n",
    "\n",
    "# 2. Вывести количество строк в файле\n",
    "print(txt.count())\n",
    "\n",
    "# 3. Посчитать количество записей с уровнем WARNING\n",
    "lines_with_warning = txt.filter(lambda line: \"WARN\" in line)\n",
    "print(lines_with_warning.count())\n",
    "\n",
    "sc.stop()"
   ]
  }
 ],
 "metadata": {
  "kernelspec": {
   "display_name": "Python 3",
   "language": "python",
   "name": "python3"
  },
  "language_info": {
   "codemirror_mode": {
    "name": "ipython",
    "version": 3
   },
   "file_extension": ".py",
   "mimetype": "text/x-python",
   "name": "python",
   "nbconvert_exporter": "python",
   "pygments_lexer": "ipython3",
   "version": "3.7.1"
  }
 },
 "nbformat": 4,
 "nbformat_minor": 2
}
